{
 "cells": [
  {
   "cell_type": "markdown",
   "metadata": {},
   "source": [
    "# Circular Singly Linked List"
   ]
  },
  {
   "cell_type": "markdown",
   "metadata": {},
   "source": [
    "## Node Class"
   ]
  },
  {
   "cell_type": "code",
   "execution_count": 1,
   "metadata": {},
   "outputs": [],
   "source": [
    "class Node:\n",
    "    def __init__(self, data=None, next_node=None):\n",
    "        self.data=data\n",
    "        self.next=next_node\n",
    "    \n",
    "    def get_data(self):\n",
    "        return(self.data)\n",
    "    \n",
    "    def get_next(self):\n",
    "        return(self.next)\n",
    "    \n",
    "    def set_next(self,next_node):\n",
    "        self.next=next_node"
   ]
  },
  {
   "cell_type": "markdown",
   "metadata": {},
   "source": [
    "## Linked List Class"
   ]
  },
  {
   "cell_type": "code",
   "execution_count": 34,
   "metadata": {},
   "outputs": [],
   "source": [
    "class LinkedList:\n",
    "    def __init__(self,head=None):\n",
    "        self.head=head\n",
    "    \n",
    "    def insert_beginning(self,data):\n",
    "        new=Node(data)\n",
    "        new.set_next(self.head)\n",
    "        self.head=new\n",
    "        \n",
    "        #Reach last node\n",
    "        temp=self.head\n",
    "        while (temp.get_next()!=self.head and temp.get_next()!=None):\n",
    "            temp=temp.get_next()\n",
    "        temp.set_next(self.head)\n",
    "    \n",
    "    def insert_end(self,data):\n",
    "        \n",
    "        new=Node(data)\n",
    "\n",
    "        #If list empty\n",
    "        if(self.head==None):\n",
    "            self.insert_beginning(data)\n",
    "            return\n",
    "        \n",
    "        #Reach last node\n",
    "        temp=self.head\n",
    "        while temp.get_next()!=self.head:\n",
    "            temp=temp.get_next()\n",
    "        temp.set_next(new)\n",
    "        new.set_next(self.head)\n",
    "    \n",
    "    def delete_head(self):\n",
    "        #If list empty\n",
    "        if(self.head==None):\n",
    "            return\n",
    "        \n",
    "        #If one element\n",
    "        if(self.head.get_next()==self.head):\n",
    "            self.head=None\n",
    "            return\n",
    "        \n",
    "        temp=self.head\n",
    "        while temp.get_next()!=self.head:\n",
    "            temp=temp.get_next()\n",
    "        \n",
    "        temp2=self.head\n",
    "        self.head=self.head.get_next()\n",
    "        temp.set_next(self.head)\n",
    "        temp2=None\n",
    "        \n",
    "    def delete_end(self):\n",
    "        #If list empty\n",
    "        if(self.head==None):\n",
    "            return\n",
    "        \n",
    "        #If only head element\n",
    "        if(self.head.get_next()==self.head):\n",
    "            self.head=None\n",
    "            return\n",
    "        \n",
    "        #Reach last node\n",
    "        temp=self.head\n",
    "        while temp.get_next().get_next()!=self.head:\n",
    "            temp=temp.get_next()\n",
    "        temp2=temp.get_next()\n",
    "        temp2=None\n",
    "        temp.set_next(self.head)\n",
    "        \n",
    "    def view_list(self):\n",
    "        if(self.head==None):\n",
    "            print(\"<Empty List>\")\n",
    "            return\n",
    "        print(self.head.get_data(),end=\"\")\n",
    "        temp=self.head.get_next()\n",
    "        while True:\n",
    "            if(temp==self.head):\n",
    "                #print(\"Head\")\n",
    "                break\n",
    "            \n",
    "            print(\" -> \",end=\"\")\n",
    "            print(temp.get_data(),end=\"\")\n",
    "            temp=temp.get_next()\n",
    "        print()"
   ]
  },
  {
   "cell_type": "markdown",
   "metadata": {},
   "source": [
    "## Driver Code"
   ]
  },
  {
   "cell_type": "code",
   "execution_count": 35,
   "metadata": {},
   "outputs": [
    {
     "name": "stdout",
     "output_type": "stream",
     "text": [
      "Create List\n",
      "<Empty List>\n"
     ]
    }
   ],
   "source": [
    "print(\"Create List\")\n",
    "L=LinkedList()\n",
    "L.view_list()"
   ]
  },
  {
   "cell_type": "code",
   "execution_count": 36,
   "metadata": {},
   "outputs": [
    {
     "name": "stdout",
     "output_type": "stream",
     "text": [
      "Add element to beginning\n",
      "1\n"
     ]
    }
   ],
   "source": [
    "print(\"Add element to beginning\")\n",
    "L.insert_beginning(1)\n",
    "L.view_list()"
   ]
  },
  {
   "cell_type": "code",
   "execution_count": 37,
   "metadata": {},
   "outputs": [
    {
     "name": "stdout",
     "output_type": "stream",
     "text": [
      "Add elements to end\n",
      "1 -> 2 -> 3 -> 4 -> 5\n"
     ]
    }
   ],
   "source": [
    "print(\"Add elements to end\")\n",
    "L.insert_end(2)\n",
    "L.insert_end(3)\n",
    "L.insert_end(4)\n",
    "L.insert_end(5)\n",
    "L.view_list()"
   ]
  },
  {
   "cell_type": "code",
   "execution_count": 38,
   "metadata": {},
   "outputs": [
    {
     "name": "stdout",
     "output_type": "stream",
     "text": [
      "Delete 3 elements from end\n",
      "1 -> 2\n"
     ]
    }
   ],
   "source": [
    "print(\"Delete 3 elements from end\")\n",
    "L.delete_end()\n",
    "L.delete_end()\n",
    "L.delete_end()\n",
    "L.view_list()"
   ]
  },
  {
   "cell_type": "code",
   "execution_count": 39,
   "metadata": {},
   "outputs": [
    {
     "name": "stdout",
     "output_type": "stream",
     "text": [
      "Delete head\n",
      "2\n",
      "Delete head\n",
      "<Empty List>\n"
     ]
    }
   ],
   "source": [
    "print(\"Delete head\")\n",
    "L.delete_head()\n",
    "L.view_list()\n",
    "\n",
    "print(\"Delete head\")\n",
    "L.delete_head()\n",
    "L.view_list()"
   ]
  }
 ],
 "metadata": {
  "kernelspec": {
   "display_name": "Python 3",
   "language": "python",
   "name": "python3"
  },
  "language_info": {
   "codemirror_mode": {
    "name": "ipython",
    "version": 3
   },
   "file_extension": ".py",
   "mimetype": "text/x-python",
   "name": "python",
   "nbconvert_exporter": "python",
   "pygments_lexer": "ipython3",
   "version": "3.7.1"
  }
 },
 "nbformat": 4,
 "nbformat_minor": 2
}
